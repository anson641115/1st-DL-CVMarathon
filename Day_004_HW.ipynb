{
 "cells": [
  {
   "cell_type": "markdown",
   "metadata": {},
   "source": [
    "## 練習時間\n",
    "資料的操作有很多，接下來的馬拉松中我們會介紹常被使用到的操作，參加者不妨先自行想像一下，第一次看到資料，我們一般會想知道什麼訊息？\n",
    "\n",
    "#### Ex: 如何知道資料的 row 數以及 column 數、有什麼欄位、多少欄位、如何截取部分的資料等等\n",
    "\n",
    "有了對資料的好奇之後，我們又怎麼通過程式碼來達成我們的目的呢？\n",
    "\n",
    "#### 可參考該[基礎教材](https://bookdata.readthedocs.io/en/latest/base/01_pandas.html#DataFrame-%E5%85%A5%E9%97%A8)或自行 google"
   ]
  },
  {
   "cell_type": "markdown",
   "metadata": {},
   "source": [
    "# [作業目標]\n",
    "- 熟悉更多的 Python 資料操作"
   ]
  },
  {
   "cell_type": "markdown",
   "metadata": {},
   "source": [
    "# [作業重點]\n",
    "- 列出資料的大小 (In[4], Hint : shape)\n",
    "- 列出所有欄位 (In[5], 有多種寫法)\n",
    "- 擷取部分資料 (In[6], Hint : loc 或 iloc)"
   ]
  },
  {
   "cell_type": "code",
   "execution_count": 5,
   "metadata": {
    "collapsed": true
   },
   "outputs": [],
   "source": [
    "import os\n",
    "import numpy as np\n",
    "import pandas as pd"
   ]
  },
  {
   "cell_type": "code",
   "execution_count": 6,
   "metadata": {
    "collapsed": true
   },
   "outputs": [],
   "source": [
    "# 設定 data_path\n",
    "dir_data = './data/'"
   ]
  },
  {
   "cell_type": "code",
   "execution_count": 7,
   "metadata": {
    "collapsed": true
   },
   "outputs": [
    {
     "name": "stdout",
     "output_type": "stream",
     "text": [
      "Path of read in data: ./data/application_train.csv\n"
     ]
    }
   ],
   "source": [
    "f_app = os.path.join(dir_data, 'application_train.csv')\n",
    "print('Path of read in data: %s' % (f_app))\n",
    "app_train = pd.read_csv(f_app)"
   ]
  },
  {
   "cell_type": "markdown",
   "metadata": {},
   "source": [
    "### 如果沒有想法，可以先嘗試找出剛剛例子中提到的問題的答案\n",
    "#### 資料的 row 數以及 column 數"
   ]
  },
  {
   "cell_type": "code",
   "execution_count": 8,
   "metadata": {
    "collapsed": true
   },
   "outputs": [
    {
     "data": {
      "text/plain": "(307511, 122)"
     },
     "execution_count": 8,
     "metadata": {},
     "output_type": "execute_result"
    }
   ],
   "source": [
    "app_train.shape\n"
   ]
  },
  {
   "cell_type": "markdown",
   "metadata": {},
   "source": [
    "#### 列出所有欄位"
   ]
  },
  {
   "cell_type": "code",
   "execution_count": 9,
   "metadata": {
    "collapsed": true
   },
   "outputs": [
    {
     "data": {
      "text/plain": "<bound method DataFrame.info of         SK_ID_CURR  TARGET NAME_CONTRACT_TYPE CODE_GENDER FLAG_OWN_CAR  \\\n0           100002       1         Cash loans           M            N   \n1           100003       0         Cash loans           F            N   \n2           100004       0    Revolving loans           M            Y   \n3           100006       0         Cash loans           F            N   \n4           100007       0         Cash loans           M            N   \n...            ...     ...                ...         ...          ...   \n307506      456251       0         Cash loans           M            N   \n307507      456252       0         Cash loans           F            N   \n307508      456253       0         Cash loans           F            N   \n307509      456254       1         Cash loans           F            N   \n307510      456255       0         Cash loans           F            N   \n\n       FLAG_OWN_REALTY  CNT_CHILDREN  AMT_INCOME_TOTAL  AMT_CREDIT  \\\n0                    Y             0          202500.0    406597.5   \n1                    N             0          270000.0   1293502.5   \n2                    Y             0           67500.0    135000.0   \n3                    Y             0          135000.0    312682.5   \n4                    Y             0          121500.0    513000.0   \n...                ...           ...               ...         ...   \n307506               N             0          157500.0    254700.0   \n307507               Y             0           72000.0    269550.0   \n307508               Y             0          153000.0    677664.0   \n307509               Y             0          171000.0    370107.0   \n307510               N             0          157500.0    675000.0   \n\n        AMT_ANNUITY  ...  FLAG_DOCUMENT_18 FLAG_DOCUMENT_19 FLAG_DOCUMENT_20  \\\n0           24700.5  ...                 0                0                0   \n1           35698.5  ...                 0                0                0   \n2            6750.0  ...                 0                0                0   \n3           29686.5  ...                 0                0                0   \n4           21865.5  ...                 0                0                0   \n...             ...  ...               ...              ...              ...   \n307506      27558.0  ...                 0                0                0   \n307507      12001.5  ...                 0                0                0   \n307508      29979.0  ...                 0                0                0   \n307509      20205.0  ...                 0                0                0   \n307510      49117.5  ...                 0                0                0   \n\n       FLAG_DOCUMENT_21 AMT_REQ_CREDIT_BUREAU_HOUR AMT_REQ_CREDIT_BUREAU_DAY  \\\n0                     0                        0.0                       0.0   \n1                     0                        0.0                       0.0   \n2                     0                        0.0                       0.0   \n3                     0                        NaN                       NaN   \n4                     0                        0.0                       0.0   \n...                 ...                        ...                       ...   \n307506                0                        NaN                       NaN   \n307507                0                        NaN                       NaN   \n307508                0                        1.0                       0.0   \n307509                0                        0.0                       0.0   \n307510                0                        0.0                       0.0   \n\n        AMT_REQ_CREDIT_BUREAU_WEEK  AMT_REQ_CREDIT_BUREAU_MON  \\\n0                              0.0                        0.0   \n1                              0.0                        0.0   \n2                              0.0                        0.0   \n3                              NaN                        NaN   \n4                              0.0                        0.0   \n...                            ...                        ...   \n307506                         NaN                        NaN   \n307507                         NaN                        NaN   \n307508                         0.0                        1.0   \n307509                         0.0                        0.0   \n307510                         0.0                        2.0   \n\n        AMT_REQ_CREDIT_BUREAU_QRT  AMT_REQ_CREDIT_BUREAU_YEAR  \n0                             0.0                         1.0  \n1                             0.0                         0.0  \n2                             0.0                         0.0  \n3                             NaN                         NaN  \n4                             0.0                         0.0  \n...                           ...                         ...  \n307506                        NaN                         NaN  \n307507                        NaN                         NaN  \n307508                        0.0                         1.0  \n307509                        0.0                         0.0  \n307510                        0.0                         1.0  \n\n[307511 rows x 122 columns]>"
     },
     "execution_count": 9,
     "metadata": {},
     "output_type": "execute_result"
    }
   ],
   "source": [
    "app_train.info"
   ]
  },
  {
   "cell_type": "markdown",
   "source": [
    "#### 查看欄位名稱"
   ],
   "metadata": {
    "collapsed": false,
    "pycharm": {
     "name": "#%% md\n"
    }
   }
  },
  {
   "cell_type": "code",
   "execution_count": 10,
   "outputs": [
    {
     "data": {
      "text/plain": "Index(['SK_ID_CURR', 'TARGET', 'NAME_CONTRACT_TYPE', 'CODE_GENDER',\n       'FLAG_OWN_CAR', 'FLAG_OWN_REALTY', 'CNT_CHILDREN', 'AMT_INCOME_TOTAL',\n       'AMT_CREDIT', 'AMT_ANNUITY',\n       ...\n       'FLAG_DOCUMENT_18', 'FLAG_DOCUMENT_19', 'FLAG_DOCUMENT_20',\n       'FLAG_DOCUMENT_21', 'AMT_REQ_CREDIT_BUREAU_HOUR',\n       'AMT_REQ_CREDIT_BUREAU_DAY', 'AMT_REQ_CREDIT_BUREAU_WEEK',\n       'AMT_REQ_CREDIT_BUREAU_MON', 'AMT_REQ_CREDIT_BUREAU_QRT',\n       'AMT_REQ_CREDIT_BUREAU_YEAR'],\n      dtype='object', length=122)"
     },
     "execution_count": 10,
     "metadata": {},
     "output_type": "execute_result"
    }
   ],
   "source": [
    "app_train.columns"
   ],
   "metadata": {
    "collapsed": false,
    "pycharm": {
     "name": "#%%\n"
    }
   }
  },
  {
   "cell_type": "markdown",
   "source": [
    "#### 查看欄位資訊"
   ],
   "metadata": {
    "collapsed": false,
    "pycharm": {
     "name": "#%% md\n"
    }
   }
  },
  {
   "cell_type": "code",
   "execution_count": 11,
   "outputs": [
    {
     "data": {
      "text/plain": "          SK_ID_CURR         TARGET   CNT_CHILDREN  AMT_INCOME_TOTAL  \\\ncount  307511.000000  307511.000000  307511.000000      3.075110e+05   \nmean   278180.518577       0.080729       0.417052      1.687979e+05   \nstd    102790.175348       0.272419       0.722121      2.371231e+05   \nmin    100002.000000       0.000000       0.000000      2.565000e+04   \n25%    189145.500000       0.000000       0.000000      1.125000e+05   \n50%    278202.000000       0.000000       0.000000      1.471500e+05   \n75%    367142.500000       0.000000       1.000000      2.025000e+05   \nmax    456255.000000       1.000000      19.000000      1.170000e+08   \n\n         AMT_CREDIT    AMT_ANNUITY  AMT_GOODS_PRICE  \\\ncount  3.075110e+05  307499.000000     3.072330e+05   \nmean   5.990260e+05   27108.573909     5.383962e+05   \nstd    4.024908e+05   14493.737315     3.694465e+05   \nmin    4.500000e+04    1615.500000     4.050000e+04   \n25%    2.700000e+05   16524.000000     2.385000e+05   \n50%    5.135310e+05   24903.000000     4.500000e+05   \n75%    8.086500e+05   34596.000000     6.795000e+05   \nmax    4.050000e+06  258025.500000     4.050000e+06   \n\n       REGION_POPULATION_RELATIVE     DAYS_BIRTH  DAYS_EMPLOYED  ...  \\\ncount               307511.000000  307511.000000  307511.000000  ...   \nmean                     0.020868  -16036.995067   63815.045904  ...   \nstd                      0.013831    4363.988632  141275.766519  ...   \nmin                      0.000290  -25229.000000  -17912.000000  ...   \n25%                      0.010006  -19682.000000   -2760.000000  ...   \n50%                      0.018850  -15750.000000   -1213.000000  ...   \n75%                      0.028663  -12413.000000    -289.000000  ...   \nmax                      0.072508   -7489.000000  365243.000000  ...   \n\n       FLAG_DOCUMENT_18  FLAG_DOCUMENT_19  FLAG_DOCUMENT_20  FLAG_DOCUMENT_21  \\\ncount     307511.000000     307511.000000     307511.000000     307511.000000   \nmean           0.008130          0.000595          0.000507          0.000335   \nstd            0.089798          0.024387          0.022518          0.018299   \nmin            0.000000          0.000000          0.000000          0.000000   \n25%            0.000000          0.000000          0.000000          0.000000   \n50%            0.000000          0.000000          0.000000          0.000000   \n75%            0.000000          0.000000          0.000000          0.000000   \nmax            1.000000          1.000000          1.000000          1.000000   \n\n       AMT_REQ_CREDIT_BUREAU_HOUR  AMT_REQ_CREDIT_BUREAU_DAY  \\\ncount               265992.000000              265992.000000   \nmean                     0.006402                   0.007000   \nstd                      0.083849                   0.110757   \nmin                      0.000000                   0.000000   \n25%                      0.000000                   0.000000   \n50%                      0.000000                   0.000000   \n75%                      0.000000                   0.000000   \nmax                      4.000000                   9.000000   \n\n       AMT_REQ_CREDIT_BUREAU_WEEK  AMT_REQ_CREDIT_BUREAU_MON  \\\ncount               265992.000000              265992.000000   \nmean                     0.034362                   0.267395   \nstd                      0.204685                   0.916002   \nmin                      0.000000                   0.000000   \n25%                      0.000000                   0.000000   \n50%                      0.000000                   0.000000   \n75%                      0.000000                   0.000000   \nmax                      8.000000                  27.000000   \n\n       AMT_REQ_CREDIT_BUREAU_QRT  AMT_REQ_CREDIT_BUREAU_YEAR  \ncount              265992.000000               265992.000000  \nmean                    0.265474                    1.899974  \nstd                     0.794056                    1.869295  \nmin                     0.000000                    0.000000  \n25%                     0.000000                    0.000000  \n50%                     0.000000                    1.000000  \n75%                     0.000000                    3.000000  \nmax                   261.000000                   25.000000  \n\n[8 rows x 106 columns]",
      "text/html": "<div>\n<style scoped>\n    .dataframe tbody tr th:only-of-type {\n        vertical-align: middle;\n    }\n\n    .dataframe tbody tr th {\n        vertical-align: top;\n    }\n\n    .dataframe thead th {\n        text-align: right;\n    }\n</style>\n<table border=\"1\" class=\"dataframe\">\n  <thead>\n    <tr style=\"text-align: right;\">\n      <th></th>\n      <th>SK_ID_CURR</th>\n      <th>TARGET</th>\n      <th>CNT_CHILDREN</th>\n      <th>AMT_INCOME_TOTAL</th>\n      <th>AMT_CREDIT</th>\n      <th>AMT_ANNUITY</th>\n      <th>AMT_GOODS_PRICE</th>\n      <th>REGION_POPULATION_RELATIVE</th>\n      <th>DAYS_BIRTH</th>\n      <th>DAYS_EMPLOYED</th>\n      <th>...</th>\n      <th>FLAG_DOCUMENT_18</th>\n      <th>FLAG_DOCUMENT_19</th>\n      <th>FLAG_DOCUMENT_20</th>\n      <th>FLAG_DOCUMENT_21</th>\n      <th>AMT_REQ_CREDIT_BUREAU_HOUR</th>\n      <th>AMT_REQ_CREDIT_BUREAU_DAY</th>\n      <th>AMT_REQ_CREDIT_BUREAU_WEEK</th>\n      <th>AMT_REQ_CREDIT_BUREAU_MON</th>\n      <th>AMT_REQ_CREDIT_BUREAU_QRT</th>\n      <th>AMT_REQ_CREDIT_BUREAU_YEAR</th>\n    </tr>\n  </thead>\n  <tbody>\n    <tr>\n      <th>count</th>\n      <td>307511.000000</td>\n      <td>307511.000000</td>\n      <td>307511.000000</td>\n      <td>3.075110e+05</td>\n      <td>3.075110e+05</td>\n      <td>307499.000000</td>\n      <td>3.072330e+05</td>\n      <td>307511.000000</td>\n      <td>307511.000000</td>\n      <td>307511.000000</td>\n      <td>...</td>\n      <td>307511.000000</td>\n      <td>307511.000000</td>\n      <td>307511.000000</td>\n      <td>307511.000000</td>\n      <td>265992.000000</td>\n      <td>265992.000000</td>\n      <td>265992.000000</td>\n      <td>265992.000000</td>\n      <td>265992.000000</td>\n      <td>265992.000000</td>\n    </tr>\n    <tr>\n      <th>mean</th>\n      <td>278180.518577</td>\n      <td>0.080729</td>\n      <td>0.417052</td>\n      <td>1.687979e+05</td>\n      <td>5.990260e+05</td>\n      <td>27108.573909</td>\n      <td>5.383962e+05</td>\n      <td>0.020868</td>\n      <td>-16036.995067</td>\n      <td>63815.045904</td>\n      <td>...</td>\n      <td>0.008130</td>\n      <td>0.000595</td>\n      <td>0.000507</td>\n      <td>0.000335</td>\n      <td>0.006402</td>\n      <td>0.007000</td>\n      <td>0.034362</td>\n      <td>0.267395</td>\n      <td>0.265474</td>\n      <td>1.899974</td>\n    </tr>\n    <tr>\n      <th>std</th>\n      <td>102790.175348</td>\n      <td>0.272419</td>\n      <td>0.722121</td>\n      <td>2.371231e+05</td>\n      <td>4.024908e+05</td>\n      <td>14493.737315</td>\n      <td>3.694465e+05</td>\n      <td>0.013831</td>\n      <td>4363.988632</td>\n      <td>141275.766519</td>\n      <td>...</td>\n      <td>0.089798</td>\n      <td>0.024387</td>\n      <td>0.022518</td>\n      <td>0.018299</td>\n      <td>0.083849</td>\n      <td>0.110757</td>\n      <td>0.204685</td>\n      <td>0.916002</td>\n      <td>0.794056</td>\n      <td>1.869295</td>\n    </tr>\n    <tr>\n      <th>min</th>\n      <td>100002.000000</td>\n      <td>0.000000</td>\n      <td>0.000000</td>\n      <td>2.565000e+04</td>\n      <td>4.500000e+04</td>\n      <td>1615.500000</td>\n      <td>4.050000e+04</td>\n      <td>0.000290</td>\n      <td>-25229.000000</td>\n      <td>-17912.000000</td>\n      <td>...</td>\n      <td>0.000000</td>\n      <td>0.000000</td>\n      <td>0.000000</td>\n      <td>0.000000</td>\n      <td>0.000000</td>\n      <td>0.000000</td>\n      <td>0.000000</td>\n      <td>0.000000</td>\n      <td>0.000000</td>\n      <td>0.000000</td>\n    </tr>\n    <tr>\n      <th>25%</th>\n      <td>189145.500000</td>\n      <td>0.000000</td>\n      <td>0.000000</td>\n      <td>1.125000e+05</td>\n      <td>2.700000e+05</td>\n      <td>16524.000000</td>\n      <td>2.385000e+05</td>\n      <td>0.010006</td>\n      <td>-19682.000000</td>\n      <td>-2760.000000</td>\n      <td>...</td>\n      <td>0.000000</td>\n      <td>0.000000</td>\n      <td>0.000000</td>\n      <td>0.000000</td>\n      <td>0.000000</td>\n      <td>0.000000</td>\n      <td>0.000000</td>\n      <td>0.000000</td>\n      <td>0.000000</td>\n      <td>0.000000</td>\n    </tr>\n    <tr>\n      <th>50%</th>\n      <td>278202.000000</td>\n      <td>0.000000</td>\n      <td>0.000000</td>\n      <td>1.471500e+05</td>\n      <td>5.135310e+05</td>\n      <td>24903.000000</td>\n      <td>4.500000e+05</td>\n      <td>0.018850</td>\n      <td>-15750.000000</td>\n      <td>-1213.000000</td>\n      <td>...</td>\n      <td>0.000000</td>\n      <td>0.000000</td>\n      <td>0.000000</td>\n      <td>0.000000</td>\n      <td>0.000000</td>\n      <td>0.000000</td>\n      <td>0.000000</td>\n      <td>0.000000</td>\n      <td>0.000000</td>\n      <td>1.000000</td>\n    </tr>\n    <tr>\n      <th>75%</th>\n      <td>367142.500000</td>\n      <td>0.000000</td>\n      <td>1.000000</td>\n      <td>2.025000e+05</td>\n      <td>8.086500e+05</td>\n      <td>34596.000000</td>\n      <td>6.795000e+05</td>\n      <td>0.028663</td>\n      <td>-12413.000000</td>\n      <td>-289.000000</td>\n      <td>...</td>\n      <td>0.000000</td>\n      <td>0.000000</td>\n      <td>0.000000</td>\n      <td>0.000000</td>\n      <td>0.000000</td>\n      <td>0.000000</td>\n      <td>0.000000</td>\n      <td>0.000000</td>\n      <td>0.000000</td>\n      <td>3.000000</td>\n    </tr>\n    <tr>\n      <th>max</th>\n      <td>456255.000000</td>\n      <td>1.000000</td>\n      <td>19.000000</td>\n      <td>1.170000e+08</td>\n      <td>4.050000e+06</td>\n      <td>258025.500000</td>\n      <td>4.050000e+06</td>\n      <td>0.072508</td>\n      <td>-7489.000000</td>\n      <td>365243.000000</td>\n      <td>...</td>\n      <td>1.000000</td>\n      <td>1.000000</td>\n      <td>1.000000</td>\n      <td>1.000000</td>\n      <td>4.000000</td>\n      <td>9.000000</td>\n      <td>8.000000</td>\n      <td>27.000000</td>\n      <td>261.000000</td>\n      <td>25.000000</td>\n    </tr>\n  </tbody>\n</table>\n<p>8 rows × 106 columns</p>\n</div>"
     },
     "execution_count": 11,
     "metadata": {},
     "output_type": "execute_result"
    }
   ],
   "source": [
    "app_train.describe()"
   ],
   "metadata": {
    "collapsed": false,
    "pycharm": {
     "name": "#%%\n"
    }
   }
  },
  {
   "cell_type": "markdown",
   "metadata": {},
   "source": [
    "#### 截取部分資料"
   ]
  },
  {
   "cell_type": "code",
   "execution_count": 12,
   "metadata": {
    "collapsed": true
   },
   "outputs": [
    {
     "ename": "SyntaxError",
     "evalue": "invalid syntax (<ipython-input-12-1bd9d058d0b1>, line 1)",
     "output_type": "error",
     "traceback": [
      "\u001B[1;36m  File \u001B[1;32m\"<ipython-input-12-1bd9d058d0b1>\"\u001B[1;36m, line \u001B[1;32m1\u001B[0m\n\u001B[1;33m    app.train.loc(100:200,\"TARGET\":\"NAME_EDUCATION_TYPE\"\u001B[0m\n\u001B[1;37m                     ^\u001B[0m\n\u001B[1;31mSyntaxError\u001B[0m\u001B[1;31m:\u001B[0m invalid syntax\n"
     ]
    }
   ],
   "source": [
    "app.train.loc(100:200,\"TARGET\":\"NAME_EDUCATION_TYPE\"\n"
   ]
  },
  {
   "cell_type": "markdown",
   "metadata": {},
   "source": [
    "#### 還有各種數之不盡的資料操作，重點還是取決於實務中遇到的狀況和你想問的問題，在馬拉松中我們也會陸續提到更多例子"
   ]
  },
  {
   "cell_type": "code",
   "execution_count": null,
   "metadata": {
    "collapsed": true
   },
   "outputs": [],
   "source": []
  }
 ],
 "metadata": {
  "kernelspec": {
   "display_name": "Python 3",
   "language": "python",
   "name": "python3"
  },
  "language_info": {
   "codemirror_mode": {
    "name": "ipython",
    "version": 3
   },
   "file_extension": ".py",
   "mimetype": "text/x-python",
   "name": "python",
   "nbconvert_exporter": "python",
   "pygments_lexer": "ipython3",
   "version": "3.6.1"
  }
 },
 "nbformat": 4,
 "nbformat_minor": 2
}